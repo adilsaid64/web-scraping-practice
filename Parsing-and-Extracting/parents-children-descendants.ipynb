{
 "cells": [
  {
   "cell_type": "code",
   "execution_count": 2,
   "metadata": {},
   "outputs": [
    {
     "data": {
      "text/plain": [
       "{'class': ['col-sm-8', 'h1']}"
      ]
     },
     "execution_count": 2,
     "metadata": {},
     "output_type": "execute_result"
    }
   ],
   "source": [
    "from bs4 import BeautifulSoup\n",
    "import requests as r\n",
    "\n",
    "resp = r.get('https://books.toscrape.com/')\n",
    "\n",
    "soup = BeautifulSoup(resp.content, 'html.parser') # lxml second argument selects the parsing libary to use.\n",
    "soup.div # only returns the first.\n",
    "first_div = soup.div\n",
    "type(first_div)\n",
    "first_div.attrs # get the attributes for this tag.\n",
    "first_div.div.div.attrs\n"
   ]
  },
  {
   "cell_type": "code",
   "execution_count": 3,
   "metadata": {},
   "outputs": [
    {
     "data": {
      "text/plain": [
       "<ul class=\"breadcrumb\">\n",
       "<li>\n",
       "<a href=\"index.html\">Home</a>\n",
       "</li>\n",
       "<li class=\"active\">All products</li>\n",
       "</ul>"
      ]
     },
     "execution_count": 3,
     "metadata": {},
     "output_type": "execute_result"
    }
   ],
   "source": [
    "soup.ul"
   ]
  },
  {
   "cell_type": "code",
   "execution_count": 4,
   "metadata": {},
   "outputs": [
    {
     "data": {
      "text/plain": [
       "<list_iterator at 0x7f9e8408f460>"
      ]
     },
     "execution_count": 4,
     "metadata": {},
     "output_type": "execute_result"
    }
   ],
   "source": [
    "soup.ul.children"
   ]
  },
  {
   "cell_type": "code",
   "execution_count": 7,
   "metadata": {},
   "outputs": [
    {
     "data": {
      "text/plain": [
       "['\\n',\n",
       " <li>\n",
       " <a href=\"index.html\">Home</a>\n",
       " </li>,\n",
       " '\\n',\n",
       " <li class=\"active\">All products</li>,\n",
       " '\\n']"
      ]
     },
     "execution_count": 7,
     "metadata": {},
     "output_type": "execute_result"
    }
   ],
   "source": [
    "list(soup.ul.children)"
   ]
  },
  {
   "cell_type": "code",
   "execution_count": 13,
   "metadata": {},
   "outputs": [
    {
     "data": {
      "text/plain": [
       "[<li>\n",
       " <a href=\"index.html\">Home</a>\n",
       " </li>,\n",
       " <li class=\"active\">All products</li>]"
      ]
     },
     "execution_count": 13,
     "metadata": {},
     "output_type": "execute_result"
    }
   ],
   "source": [
    "from bs4.element import NavigableString\n",
    "\n",
    "\n",
    "list(filter(lambda x : type(x)!= NavigableString, soup.ul.children))"
   ]
  },
  {
   "cell_type": "code",
   "execution_count": 17,
   "metadata": {},
   "outputs": [
    {
     "data": {
      "text/plain": [
       "[<li>\n",
       " <a href=\"index.html\">Home</a>\n",
       " </li>,\n",
       " <a href=\"index.html\">Home</a>,\n",
       " <li class=\"active\">All products</li>]"
      ]
     },
     "execution_count": 17,
     "metadata": {},
     "output_type": "execute_result"
    }
   ],
   "source": [
    "def no_nav_strings(itterable):\n",
    "    return list(filter(lambda x :type(x)!= NavigableString, itterable))\n",
    "\n",
    "\n",
    "desc = no_nav_strings(soup.ul.descendants)\n",
    "desc"
   ]
  },
  {
   "cell_type": "code",
   "execution_count": 19,
   "metadata": {},
   "outputs": [
    {
     "data": {
      "text/plain": [
       "<ul class=\"breadcrumb\">\n",
       "<li>\n",
       "<a href=\"index.html\">Home</a>\n",
       "</li>\n",
       "<li class=\"active\">All products</li>\n",
       "</ul>"
      ]
     },
     "execution_count": 19,
     "metadata": {},
     "output_type": "execute_result"
    }
   ],
   "source": [
    "desc[0].parent"
   ]
  },
  {
   "cell_type": "code",
   "execution_count": 22,
   "metadata": {},
   "outputs": [
    {
     "data": {
      "text/plain": [
       "<li class=\"active\">All products</li>"
      ]
     },
     "execution_count": 22,
     "metadata": {},
     "output_type": "execute_result"
    }
   ],
   "source": [
    "# Moving up and down the tree.\n",
    "# Next we look at siblings\n",
    "\n",
    "soup.ul.li\\\n",
    "        .nextSibling\\\n",
    "        .nextSibling"
   ]
  },
  {
   "cell_type": "code",
   "execution_count": null,
   "metadata": {},
   "outputs": [],
   "source": []
  },
  {
   "cell_type": "code",
   "execution_count": null,
   "metadata": {},
   "outputs": [],
   "source": []
  }
 ],
 "metadata": {
  "kernelspec": {
   "display_name": "python-env",
   "language": "python",
   "name": "python3"
  },
  "language_info": {
   "codemirror_mode": {
    "name": "ipython",
    "version": 3
   },
   "file_extension": ".py",
   "mimetype": "text/x-python",
   "name": "python",
   "nbconvert_exporter": "python",
   "pygments_lexer": "ipython3",
   "version": "3.11.4"
  },
  "orig_nbformat": 4
 },
 "nbformat": 4,
 "nbformat_minor": 2
}
