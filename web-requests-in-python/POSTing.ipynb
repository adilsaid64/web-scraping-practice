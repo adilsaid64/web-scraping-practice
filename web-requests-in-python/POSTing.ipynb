{
 "cells": [
  {
   "cell_type": "code",
   "execution_count": 1,
   "metadata": {},
   "outputs": [],
   "source": [
    "# Client sends data to server via>\n",
    "    # - headers\n",
    "    # - query params \n",
    "    # - body"
   ]
  },
  {
   "cell_type": "code",
   "execution_count": 8,
   "metadata": {},
   "outputs": [
    {
     "data": {
      "text/plain": [
       "{'args': {},\n",
       " 'data': '',\n",
       " 'files': {},\n",
       " 'form': {'key': '1', 'key2': 'This is a new value'},\n",
       " 'headers': {'Accept': '*/*',\n",
       "  'Accept-Encoding': 'gzip, deflate, br',\n",
       "  'Content-Length': '30',\n",
       "  'Content-Type': 'application/x-www-form-urlencoded',\n",
       "  'Host': 'httpbin.org',\n",
       "  'User-Agent': 'python-requests/2.31.0',\n",
       "  'X-Amzn-Trace-Id': 'Root=1-65eda5ae-0e51136c0c90dedc4e916a84'},\n",
       " 'json': None,\n",
       " 'origin': '148.252.140.79',\n",
       " 'url': 'https://httpbin.org/post'}"
      ]
     },
     "execution_count": 8,
     "metadata": {},
     "output_type": "execute_result"
    }
   ],
   "source": [
    "import requests as r\n",
    "\n",
    "\n",
    "resp = r.post('https://httpbin.org/post', data = {'key':1, 'key2':'This is a new value'})\n",
    "resp.json()"
   ]
  },
  {
   "cell_type": "code",
   "execution_count": 9,
   "metadata": {},
   "outputs": [
    {
     "data": {
      "text/plain": [
       "'key=1&key2=This+is+a+new+value'"
      ]
     },
     "execution_count": 9,
     "metadata": {},
     "output_type": "execute_result"
    }
   ],
   "source": [
    "# form encoding. Encodes key value pairs as strings. Data is encoded as query string.\n",
    "\n",
    "resp.request.body"
   ]
  },
  {
   "cell_type": "code",
   "execution_count": 10,
   "metadata": {},
   "outputs": [
    {
     "data": {
      "text/plain": [
       "{'args': {},\n",
       " 'data': 'Hello',\n",
       " 'files': {},\n",
       " 'form': {},\n",
       " 'headers': {'Accept': '*/*',\n",
       "  'Accept-Encoding': 'gzip, deflate, br',\n",
       "  'Content-Length': '5',\n",
       "  'Host': 'httpbin.org',\n",
       "  'User-Agent': 'python-requests/2.31.0',\n",
       "  'X-Amzn-Trace-Id': 'Root=1-65eda5cc-64ba54ea21ba50ca47893e08'},\n",
       " 'json': None,\n",
       " 'origin': '148.252.140.79',\n",
       " 'url': 'https://httpbin.org/post'}"
      ]
     },
     "execution_count": 10,
     "metadata": {},
     "output_type": "execute_result"
    }
   ],
   "source": [
    "\n",
    "resp = r.post('https://httpbin.org/post', data = 'Hello')\n",
    "resp.json()"
   ]
  },
  {
   "cell_type": "code",
   "execution_count": 11,
   "metadata": {},
   "outputs": [
    {
     "data": {
      "text/plain": [
       "'Hello'"
      ]
     },
     "execution_count": 11,
     "metadata": {},
     "output_type": "execute_result"
    }
   ],
   "source": [
    "resp.request.body"
   ]
  },
  {
   "cell_type": "code",
   "execution_count": 12,
   "metadata": {},
   "outputs": [
    {
     "data": {
      "text/plain": [
       "{'args': {},\n",
       " 'data': '{\"key\": 1, \"key2\": \"This is a new value\"}',\n",
       " 'files': {},\n",
       " 'form': {},\n",
       " 'headers': {'Accept': '*/*',\n",
       "  'Accept-Encoding': 'gzip, deflate, br',\n",
       "  'Content-Length': '41',\n",
       "  'Content-Type': 'application/json',\n",
       "  'Host': 'httpbin.org',\n",
       "  'User-Agent': 'python-requests/2.31.0',\n",
       "  'X-Amzn-Trace-Id': 'Root=1-65eda5f6-1fac9d8a0d728e686164eb10'},\n",
       " 'json': {'key': 1, 'key2': 'This is a new value'},\n",
       " 'origin': '148.252.140.79',\n",
       " 'url': 'https://httpbin.org/post'}"
      ]
     },
     "execution_count": 12,
     "metadata": {},
     "output_type": "execute_result"
    }
   ],
   "source": [
    "resp = r.post('https://httpbin.org/post', json = {'key':1, 'key2':'This is a new value'})\n",
    "resp.json()"
   ]
  },
  {
   "cell_type": "code",
   "execution_count": 14,
   "metadata": {},
   "outputs": [
    {
     "data": {
      "text/plain": [
       "b'{\"key\": 1, \"key2\": \"This is a new value\"}'"
      ]
     },
     "execution_count": 14,
     "metadata": {},
     "output_type": "execute_result"
    }
   ],
   "source": [
    "resp.request.body"
   ]
  }
 ],
 "metadata": {
  "kernelspec": {
   "display_name": "python-env",
   "language": "python",
   "name": "python3"
  },
  "language_info": {
   "codemirror_mode": {
    "name": "ipython",
    "version": 3
   },
   "file_extension": ".py",
   "mimetype": "text/x-python",
   "name": "python",
   "nbconvert_exporter": "python",
   "pygments_lexer": "ipython3",
   "version": "3.11.4"
  },
  "orig_nbformat": 4
 },
 "nbformat": 4,
 "nbformat_minor": 2
}
