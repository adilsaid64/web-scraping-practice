{
 "cells": [
  {
   "cell_type": "code",
   "execution_count": 1,
   "metadata": {},
   "outputs": [],
   "source": [
    "# books.com?author=JKRowling&title=HarryPotter&price=10\n",
    "\n",
    "# Three query parameteres here. Author, Titlte and Price\n",
    "# Used to pass additional information when making a request."
   ]
  },
  {
   "cell_type": "code",
   "execution_count": 3,
   "metadata": {},
   "outputs": [
    {
     "data": {
      "text/plain": [
       "<Response [200]>"
      ]
     },
     "execution_count": 3,
     "metadata": {},
     "output_type": "execute_result"
    }
   ],
   "source": [
    "url = 'https://api.coinbase.com/v2/exchange-rates?currency=BTC'\n",
    "\n",
    "import requests as r\n",
    "\n",
    "\n",
    "resp = r.get(url)\n",
    "resp"
   ]
  },
  {
   "cell_type": "code",
   "execution_count": 7,
   "metadata": {},
   "outputs": [
    {
     "data": {
      "text/plain": [
       "'69691.065'"
      ]
     },
     "execution_count": 7,
     "metadata": {},
     "output_type": "execute_result"
    }
   ],
   "source": [
    "resp.json()['data']['rates']['USD']"
   ]
  },
  {
   "cell_type": "code",
   "execution_count": 10,
   "metadata": {},
   "outputs": [
    {
     "data": {
      "text/plain": [
       "'69665.415'"
      ]
     },
     "execution_count": 10,
     "metadata": {},
     "output_type": "execute_result"
    }
   ],
   "source": [
    "url = 'https://api.coinbase.com/v2/exchange-rates'\n",
    "params = {'currency':'BTC'}\n",
    "\n",
    "resp = r.get(url=url, params=params)\n",
    "resp.json()['data']['rates']['USD']"
   ]
  },
  {
   "cell_type": "code",
   "execution_count": 14,
   "metadata": {},
   "outputs": [
    {
     "data": {
      "text/plain": [
       "{'results': {'date': '2024-03-10',\n",
       "  'sunrise': '6:41:03 AM',\n",
       "  'sunset': '6:17:39 PM',\n",
       "  'first_light': '5:05:40 AM',\n",
       "  'last_light': '7:53:02 PM',\n",
       "  'dawn': '6:12:27 AM',\n",
       "  'dusk': '6:46:15 PM',\n",
       "  'solar_noon': '12:29:21 PM',\n",
       "  'golden_hour': '5:39:27 PM',\n",
       "  'day_length': '11:36:36',\n",
       "  'timezone': 'EST',\n",
       "  'utc_offset': -300},\n",
       " 'status': 'OK'}"
      ]
     },
     "execution_count": 14,
     "metadata": {},
     "output_type": "execute_result"
    }
   ],
   "source": [
    "url = 'https://api.sunrisesunset.io/json'\n",
    "\n",
    "params = {\n",
    "    'lat':43.65,\n",
    "    'lng':-79.38,\n",
    "    'timezone' : 'EST',\n",
    "    'date' : 'today'\n",
    "}\n",
    "\n",
    "\n",
    "resp = r.get(url=url, params=params)\n",
    "resp.json()"
   ]
  }
 ],
 "metadata": {
  "kernelspec": {
   "display_name": "python-env",
   "language": "python",
   "name": "python3"
  },
  "language_info": {
   "codemirror_mode": {
    "name": "ipython",
    "version": 3
   },
   "file_extension": ".py",
   "mimetype": "text/x-python",
   "name": "python",
   "nbconvert_exporter": "python",
   "pygments_lexer": "ipython3",
   "version": "3.11.4"
  },
  "orig_nbformat": 4
 },
 "nbformat": 4,
 "nbformat_minor": 2
}
